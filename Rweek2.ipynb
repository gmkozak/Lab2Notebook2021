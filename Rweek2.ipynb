{
 "cells": [
  {
   "cell_type": "markdown",
   "metadata": {},
   "source": [
    "What is a dataframe?\n",
    "\n",
    "A dataframe is a collection of values arranged as a table. It is a tabular organization of data in where the rows represent cases (or observations) and the columns are  the variables. Dataframes will be the mostly used raw data input you will  ever use in R."
   ]
  },
  {
   "cell_type": "markdown",
   "metadata": {},
   "source": [
    "Set working directory. Load in libraries"
   ]
  },
  {
   "cell_type": "code",
   "execution_count": null,
   "metadata": {},
   "outputs": [],
   "source": [
    "library(Biostatistics)\n",
    "library(mosaic)\n",
    "library(sciplot)\n",
    "library(ggplot2)"
   ]
  },
  {
   "cell_type": "markdown",
   "metadata": {},
   "source": [
    "Read in data set and run summary"
   ]
  },
  {
   "cell_type": "code",
   "execution_count": null,
   "metadata": {},
   "outputs": [],
   "source": [
    "#data(\"weaver\")\n",
    "weaver<-read.csv(\"weaver.csv\")\n",
    "summary(weaver)\n",
    "head(weaver)"
   ]
  },
  {
   "cell_type": "markdown",
   "metadata": {},
   "source": [
    "Summary statistics"
   ]
  },
  {
   "cell_type": "code",
   "execution_count": null,
   "metadata": {},
   "outputs": [],
   "source": [
    "mass.mean=mean(weaver$mass_final)\n",
    "mass.mean"
   ]
  },
  {
   "cell_type": "code",
   "execution_count": null,
   "metadata": {},
   "outputs": [],
   "source": [
    "mass.median=median(weaver$mass_final)\n",
    "mass.median"
   ]
  },
  {
   "cell_type": "code",
   "execution_count": null,
   "metadata": {},
   "outputs": [],
   "source": [
    "mass.variance=var(weaver$mass_final)\n",
    "mass.variance"
   ]
  },
  {
   "cell_type": "markdown",
   "metadata": {},
   "source": [
    "Get the standard deviation"
   ]
  },
  {
   "cell_type": "code",
   "execution_count": null,
   "metadata": {},
   "outputs": [],
   "source": [
    "mass.sd=sd(weaver$mass_final)\n",
    "mass.sd"
   ]
  },
  {
   "cell_type": "markdown",
   "metadata": {},
   "source": [
    "Let's suppose we want to analyze only the eggs left treatment in the weaver dataframe. This is achieved  by using \"subset.\"\n",
    "Subset the data to just those with Treatment \"Eggs_left\""
   ]
  },
  {
   "cell_type": "code",
   "execution_count": null,
   "metadata": {},
   "outputs": [],
   "source": [
    "weaver.eggs5<-subset(weaver,weaver$ GrpSize5)\n",
    "summary(weaver.eggs5)\n",
    "head(weaver.eggs.left)"
   ]
  },
  {
   "cell_type": "code",
   "execution_count": null,
   "metadata": {},
   "outputs": [],
   "source": [
    "mass.eggs.left.mean=mean(weaver.eggs.left$mass_final)\n",
    "mass.eggs.left.mean"
   ]
  },
  {
   "cell_type": "markdown",
   "metadata": {},
   "source": [
    "Test if mass.eggs.left.mean greater than mass.mean"
   ]
  },
  {
   "cell_type": "code",
   "execution_count": null,
   "metadata": {},
   "outputs": [],
   "source": [
    "mass.eggs.left.mean < mass.mean"
   ]
  },
  {
   "cell_type": "markdown",
   "metadata": {},
   "source": [
    "Get the 25th percentile for the variable (Note pdata/qdata requires mosaic package)"
   ]
  },
  {
   "cell_type": "code",
   "execution_count": null,
   "metadata": {},
   "outputs": [],
   "source": [
    "mass.q25=qdata(weaver$mass_final,0.30)\n",
    "mass.q25"
   ]
  },
  {
   "cell_type": "markdown",
   "metadata": {},
   "source": [
    "Get the proportion of the population less than 40"
   ]
  },
  {
   "cell_type": "code",
   "execution_count": null,
   "metadata": {},
   "outputs": [],
   "source": [
    "mass.less.than.40=pdata(weaver$mass_final,40)\n",
    "mass.less.than.40"
   ]
  },
  {
   "cell_type": "markdown",
   "metadata": {},
   "source": [
    "Get the proportion of the population greater than 39"
   ]
  },
  {
   "cell_type": "code",
   "execution_count": null,
   "metadata": {},
   "outputs": [],
   "source": [
    "mass.more.than.39= 1-pdata(weaver$mass_final,39)\n",
    "mass.more.than.39"
   ]
  },
  {
   "cell_type": "markdown",
   "metadata": {},
   "source": [
    "Extract all large birds from the populations"
   ]
  },
  {
   "cell_type": "code",
   "execution_count": null,
   "metadata": {},
   "outputs": [],
   "source": [
    "weaver.large=subset(weaver, weaver$mass_final>45)\n",
    "summary(weaver.large)"
   ]
  },
  {
   "cell_type": "markdown",
   "metadata": {},
   "source": [
    "If we want to randomly resample the dataset use sample either without (Rand1) or with replacement (Rand2)"
   ]
  },
  {
   "cell_type": "code",
   "execution_count": null,
   "metadata": {},
   "outputs": [],
   "source": [
    "weaverRand1 = sample(weaver, 10)\n",
    "weaverRand1 "
   ]
  },
  {
   "cell_type": "code",
   "execution_count": null,
   "metadata": {},
   "outputs": [],
   "source": [
    "weaverRand2 = sample(weaver, 10, replace=TRUE)\n",
    "weaverRand2 "
   ]
  },
  {
   "cell_type": "markdown",
   "metadata": {},
   "source": [
    "What is the distribution of \"mass\" in the weaver study?"
   ]
  },
  {
   "cell_type": "code",
   "execution_count": null,
   "metadata": {},
   "outputs": [],
   "source": [
    "histogram(weaver$mass_final, xlab=\"Mass\",  ylab=\"Count\",\n",
    "main=\"Histogram of Height\", col=\"red\")"
   ]
  },
  {
   "cell_type": "markdown",
   "metadata": {},
   "source": [
    "Color by treatment"
   ]
  },
  {
   "cell_type": "code",
   "execution_count": null,
   "metadata": {},
   "outputs": [],
   "source": [
    "histogram(weaver$mass_final, groups=weaver$Treatment, stripes='horizontal', xlab=\"Height\",  ylab=\"Count\",\n",
    "main=\"Histogram of Height\")"
   ]
  },
  {
   "cell_type": "markdown",
   "metadata": {},
   "source": [
    "Using ggplot2 for nicer plotting"
   ]
  },
  {
   "cell_type": "code",
   "execution_count": null,
   "metadata": {},
   "outputs": [],
   "source": [
    "ggplot(weaver,aes(x=mass_final, fill=Treatment))+  geom_histogram(binwidth = 2,  color=\"black\", stat=\"bin\")+theme_bw()"
   ]
  },
  {
   "cell_type": "markdown",
   "metadata": {},
   "source": [
    "R orders things alphabetically, let's reorder the colors"
   ]
  },
  {
   "cell_type": "code",
   "execution_count": null,
   "metadata": {},
   "outputs": [],
   "source": [
    "weaver$Treatment<-factor(weaver$Treatment, levels=c(\"Eggs_removed\", \"Eggs_left\"))"
   ]
  },
  {
   "cell_type": "code",
   "execution_count": null,
   "metadata": {},
   "outputs": [],
   "source": [
    "ggplot(weaver,aes(x=mass_final, fill=Treatment))+  geom_histogram(binwidth = 2,  color=\"black\", stat=\"bin\")+theme_bw()"
   ]
  },
  {
   "cell_type": "markdown",
   "metadata": {},
   "source": [
    "Create a non stacked plot using positon= \"dodge\""
   ]
  },
  {
   "cell_type": "code",
   "execution_count": null,
   "metadata": {},
   "outputs": [],
   "source": [
    "ggplot(weaver,aes(x=mass_final, fill=Treatment))+  geom_histogram(binwidth = 2,  color=\"black\", stat=\"bin\",position=\"dodge\")+theme_bw()"
   ]
  },
  {
   "cell_type": "markdown",
   "metadata": {},
   "source": [
    "Let's assume we want to see if there is some diﬀerence in males between Eggs_removed and Eggs_left\n",
    "We can draw a box (or whisker) plot. Note that this is either Y~X or GroupA,GroupB"
   ]
  },
  {
   "cell_type": "code",
   "execution_count": null,
   "metadata": {},
   "outputs": [],
   "source": [
    "boxplot(mass_final ~ Treatment,data=weaver,  xlab=\"Treatment\",ylab=\"Mass\",col=c(\"blue\",\"red\"), names=c(\"Eggs Removed\",\"Eggs Left\"))"
   ]
  },
  {
   "cell_type": "markdown",
   "metadata": {},
   "source": [
    "box edges represent the third and ﬁrst quartiles (50% of  the data)\n",
    "▶ black line is the median\n",
    "▶ lower 50% of the data is below the median\n",
    "▶ lower 25% of the data occurs between the bottom edge of  the box and the bottom edge of the lower whisker\n",
    "▶ upper 25% of the data occurs above the top edge of the  box and the top edge of the upper whisker"
   ]
  },
  {
   "cell_type": "markdown",
   "metadata": {},
   "source": [
    "Frequency distribution and barplot\n",
    "Determine the frequency distribution for group size in the galton data and make a bargraph.\n",
    "First we need to get the frequency distribution (use the  command table to make it)."
   ]
  },
  {
   "cell_type": "code",
   "execution_count": null,
   "metadata": {},
   "outputs": [],
   "source": [
    "freq.of.group=table(weaver$GrpSize)\n",
    "freq.of.group"
   ]
  },
  {
   "cell_type": "code",
   "execution_count": null,
   "metadata": {},
   "outputs": [],
   "source": [
    "barplot(freq.of.group,xlab=\"number in Group\",  ylab=\"counts\",col=\"gold\")"
   ]
  },
  {
   "cell_type": "markdown",
   "metadata": {},
   "source": [
    "barplot can be categorial factors as well. Let's create a new categorial variable \"large_group\", which tells us if the group size greater than 5. It is a true/false variable than is added to the end of our data frame."
   ]
  },
  {
   "cell_type": "code",
   "execution_count": null,
   "metadata": {},
   "outputs": [],
   "source": [
    "weaver$large_group<-weaver$GrpSize>5\n",
    "summary(weaver)"
   ]
  },
  {
   "cell_type": "code",
   "execution_count": null,
   "metadata": {},
   "outputs": [],
   "source": [
    "freq.of.large=table(weaver$large_group)\n",
    "freq.of.large\n",
    "barplot(freq.of.large,xlab=\"Group size over 5\",  ylab=\"counts\",col=\"gold\")"
   ]
  },
  {
   "cell_type": "markdown",
   "metadata": {},
   "source": [
    "Let's subset by group size and look at the mass"
   ]
  },
  {
   "cell_type": "code",
   "execution_count": null,
   "metadata": {},
   "outputs": [],
   "source": [
    "Large<-subset(weaver,weaver$large_group==\"TRUE\")\n",
    "summary(Large)"
   ]
  },
  {
   "cell_type": "code",
   "execution_count": null,
   "metadata": {},
   "outputs": [],
   "source": [
    "Small<-subset(weaver,weaver$large_group==\"FALSE\")\n",
    "summary(Small)"
   ]
  },
  {
   "cell_type": "code",
   "execution_count": null,
   "metadata": {},
   "outputs": [],
   "source": [
    "boxplot(Small$mass_final,Large$mass_final, xlab=\"Treatment\",ylab=\"Mass\",col=c(\"purple\",\"forestgreen\"), names=c(\"Small\",\"Large\"))"
   ]
  },
  {
   "cell_type": "markdown",
   "metadata": {},
   "source": [
    "Table and barplot can be done for two categorical variables"
   ]
  },
  {
   "cell_type": "code",
   "execution_count": null,
   "metadata": {},
   "outputs": [],
   "source": [
    "freq.of.large.treat=table(weaver$large_group, weaver$Treatment)\n",
    "freq.of.large.treat"
   ]
  },
  {
   "cell_type": "code",
   "execution_count": null,
   "metadata": {},
   "outputs": [],
   "source": [
    "barplot(freq.of.large.treat,ylab=\"counts\",beside=TRUE)"
   ]
  },
  {
   "cell_type": "code",
   "execution_count": null,
   "metadata": {},
   "outputs": [],
   "source": [
    "ggplot(weaver, aes(x=Treatment, fill=large_group)) +\n",
    "     geom_bar(position=\"dodge\") +\n",
    "     xlab(\"Treatment\") +\n",
    "     ylab(\"count\") +\n",
    "     scale_fill_manual(values=c(\"blue\",\"red\")) +\n",
    "     theme_classic()"
   ]
  },
  {
   "cell_type": "code",
   "execution_count": null,
   "metadata": {},
   "outputs": [],
   "source": []
  }
 ],
 "metadata": {
  "kernelspec": {
   "display_name": "R",
   "language": "R",
   "name": "ir"
  },
  "language_info": {
   "codemirror_mode": "r",
   "file_extension": ".r",
   "mimetype": "text/x-r-source",
   "name": "R",
   "pygments_lexer": "r",
   "version": "3.5.1"
  }
 },
 "nbformat": 4,
 "nbformat_minor": 4
}
